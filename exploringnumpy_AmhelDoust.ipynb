{
 "cells": [
  {
   "cell_type": "code",
   "execution_count": 10,
   "metadata": {},
   "outputs": [],
   "source": [
    "import numpy as np"
   ]
  },
  {
   "cell_type": "code",
   "execution_count": 11,
   "metadata": {},
   "outputs": [],
   "source": [
    "arr = np.array ([1, 2, 3, 4, 5])"
   ]
  },
  {
   "cell_type": "code",
   "execution_count": 12,
   "metadata": {},
   "outputs": [
    {
     "name": "stdout",
     "output_type": "stream",
     "text": [
      "[1 2 3 4 5]\n"
     ]
    }
   ],
   "source": [
    "print (arr)"
   ]
  },
  {
   "cell_type": "code",
   "execution_count": 13,
   "metadata": {},
   "outputs": [
    {
     "name": "stdout",
     "output_type": "stream",
     "text": [
      "<class 'numpy.ndarray'>\n"
     ]
    }
   ],
   "source": [
    "print (type(arr))"
   ]
  },
  {
   "cell_type": "code",
   "execution_count": 14,
   "metadata": {},
   "outputs": [],
   "source": [
    "array_2d = np.random.randint(1, 101, size=(10, 10))"
   ]
  },
  {
   "cell_type": "code",
   "execution_count": 15,
   "metadata": {},
   "outputs": [
    {
     "name": "stdout",
     "output_type": "stream",
     "text": [
      "graphique\n",
      "[[ 11  65  36  46   1  77  96  82  32  68]\n",
      " [ 31  76  10   4   2  38  69   1  61   9]\n",
      " [ 14  37  50  18  59  67  23  81  41  93]\n",
      " [ 55  86  41  24  67  15  35  25  21  38]\n",
      " [ 91   5  94  83  50  85   1  44  21  89]\n",
      " [ 80  62  50  31  91  74  78  19  95  49]\n",
      " [ 19  31  28  39  27  55  33  32  94  30]\n",
      " [ 42  34  66  65 100  31  43  81  53  11]\n",
      " [ 41  58  58  23   6  52  83   8  16  22]\n",
      " [ 67  83  56  14  96  77  47  95  26  74]]\n"
     ]
    }
   ],
   "source": [
    "print(\"graphique\")\n",
    "print(array_2d)"
   ]
  },
  {
   "cell_type": "code",
   "execution_count": 16,
   "metadata": {},
   "outputs": [],
   "source": [
    "first_element = array_2d[0, 0]\n",
    "last_element = array_2d [-1, -1]"
   ]
  },
  {
   "cell_type": "code",
   "execution_count": 17,
   "metadata": {},
   "outputs": [
    {
     "name": "stdout",
     "output_type": "stream",
     "text": [
      "11\n"
     ]
    }
   ],
   "source": [
    "print (first_element)"
   ]
  },
  {
   "cell_type": "code",
   "execution_count": 18,
   "metadata": {},
   "outputs": [
    {
     "name": "stdout",
     "output_type": "stream",
     "text": [
      "74\n"
     ]
    }
   ],
   "source": [
    "print (last_element)"
   ]
  },
  {
   "cell_type": "code",
   "execution_count": 19,
   "metadata": {},
   "outputs": [],
   "source": [
    "sub_array = array_2d[5, 5]"
   ]
  },
  {
   "cell_type": "code",
   "execution_count": 20,
   "metadata": {},
   "outputs": [
    {
     "name": "stdout",
     "output_type": "stream",
     "text": [
      "74\n"
     ]
    }
   ],
   "source": [
    "print (sub_array)"
   ]
  },
  {
   "cell_type": "code",
   "execution_count": 23,
   "metadata": {},
   "outputs": [
    {
     "name": "stdout",
     "output_type": "stream",
     "text": [
      "36 96 18 24 78 30 42 66 6 96 \n",
      "\n"
     ]
    }
   ],
   "source": [
    "for row in array_2d:\n",
    "    for element in row:\n",
    "       if element % 2 == 0 and element % 3 == 0:\n",
    "            print(element, end=' ')\n",
    "print(\"\\n\")\n"
   ]
  },
  {
   "cell_type": "code",
   "execution_count": 27,
   "metadata": {},
   "outputs": [],
   "source": [
    "array_1d = array_2d.reshape(100)"
   ]
  },
  {
   "cell_type": "code",
   "execution_count": 30,
   "metadata": {},
   "outputs": [
    {
     "name": "stdout",
     "output_type": "stream",
     "text": [
      "reshaped 1D array\n",
      "[ 11  65  36  46   1  77  96  82  32  68  31  76  10   4   2  38  69   1\n",
      "  61   9  14  37  50  18  59  67  23  81  41  93  55  86  41  24  67  15\n",
      "  35  25  21  38  91   5  94  83  50  85   1  44  21  89  80  62  50  31\n",
      "  91  74  78  19  95  49  19  31  28  39  27  55  33  32  94  30  42  34\n",
      "  66  65 100  31  43  81  53  11  41  58  58  23   6  52  83   8  16  22\n",
      "  67  83  56  14  96  77  47  95  26  74]\n"
     ]
    }
   ],
   "source": [
    "print(\"reshaped 1D array\")\n",
    "print(array_1d)"
   ]
  },
  {
   "cell_type": "code",
   "execution_count": 31,
   "metadata": {},
   "outputs": [],
   "source": [
    "reshaped_array_1d = array_1d.reshape(array_2d.shape)"
   ]
  },
  {
   "cell_type": "code",
   "execution_count": 32,
   "metadata": {},
   "outputs": [],
   "source": [
    "element_wise_sum = array_2d + reshaped_array_1d"
   ]
  },
  {
   "cell_type": "code",
   "execution_count": 33,
   "metadata": {},
   "outputs": [],
   "source": [
    "element_wise_difference = array_2d - reshaped_array_1d"
   ]
  },
  {
   "cell_type": "code",
   "execution_count": 34,
   "metadata": {},
   "outputs": [],
   "source": [
    "element_wise_product = array_2d * reshaped_array_1d"
   ]
  },
  {
   "cell_type": "code",
   "execution_count": 35,
   "metadata": {},
   "outputs": [
    {
     "name": "stdout",
     "output_type": "stream",
     "text": [
      "element-wise Sum:\n",
      "[[ 22 130  72  92   2 154 192 164  64 136]\n",
      " [ 62 152  20   8   4  76 138   2 122  18]\n",
      " [ 28  74 100  36 118 134  46 162  82 186]\n",
      " [110 172  82  48 134  30  70  50  42  76]\n",
      " [182  10 188 166 100 170   2  88  42 178]\n",
      " [160 124 100  62 182 148 156  38 190  98]\n",
      " [ 38  62  56  78  54 110  66  64 188  60]\n",
      " [ 84  68 132 130 200  62  86 162 106  22]\n",
      " [ 82 116 116  46  12 104 166  16  32  44]\n",
      " [134 166 112  28 192 154  94 190  52 148]]\n",
      "\n"
     ]
    }
   ],
   "source": [
    "print(\"element-wise Sum:\")\n",
    "print(element_wise_sum)\n",
    "print()"
   ]
  },
  {
   "cell_type": "code",
   "execution_count": 36,
   "metadata": {},
   "outputs": [
    {
     "name": "stdout",
     "output_type": "stream",
     "text": [
      "element-wise Difference:\n",
      "[[0 0 0 0 0 0 0 0 0 0]\n",
      " [0 0 0 0 0 0 0 0 0 0]\n",
      " [0 0 0 0 0 0 0 0 0 0]\n",
      " [0 0 0 0 0 0 0 0 0 0]\n",
      " [0 0 0 0 0 0 0 0 0 0]\n",
      " [0 0 0 0 0 0 0 0 0 0]\n",
      " [0 0 0 0 0 0 0 0 0 0]\n",
      " [0 0 0 0 0 0 0 0 0 0]\n",
      " [0 0 0 0 0 0 0 0 0 0]\n",
      " [0 0 0 0 0 0 0 0 0 0]]\n",
      "\n"
     ]
    }
   ],
   "source": [
    "print(\"element-wise Difference:\")\n",
    "print(element_wise_difference)\n",
    "print()"
   ]
  },
  {
   "cell_type": "code",
   "execution_count": 37,
   "metadata": {},
   "outputs": [
    {
     "name": "stdout",
     "output_type": "stream",
     "text": [
      "element-wise Product:\n",
      "[[  121  4225  1296  2116     1  5929  9216  6724  1024  4624]\n",
      " [  961  5776   100    16     4  1444  4761     1  3721    81]\n",
      " [  196  1369  2500   324  3481  4489   529  6561  1681  8649]\n",
      " [ 3025  7396  1681   576  4489   225  1225   625   441  1444]\n",
      " [ 8281    25  8836  6889  2500  7225     1  1936   441  7921]\n",
      " [ 6400  3844  2500   961  8281  5476  6084   361  9025  2401]\n",
      " [  361   961   784  1521   729  3025  1089  1024  8836   900]\n",
      " [ 1764  1156  4356  4225 10000   961  1849  6561  2809   121]\n",
      " [ 1681  3364  3364   529    36  2704  6889    64   256   484]\n",
      " [ 4489  6889  3136   196  9216  5929  2209  9025   676  5476]]\n",
      "\n"
     ]
    }
   ],
   "source": [
    "print(\"element-wise Product:\")\n",
    "print(element_wise_product)\n",
    "print()"
   ]
  },
  {
   "cell_type": "code",
   "execution_count": 38,
   "metadata": {},
   "outputs": [],
   "source": [
    "mean = np.mean(array_2d)"
   ]
  },
  {
   "cell_type": "code",
   "execution_count": 39,
   "metadata": {},
   "outputs": [
    {
     "name": "stdout",
     "output_type": "stream",
     "text": [
      "Mean: 48.13\n"
     ]
    }
   ],
   "source": [
    "print(\"Mean:\", mean)"
   ]
  },
  {
   "cell_type": "code",
   "execution_count": 40,
   "metadata": {},
   "outputs": [],
   "source": [
    "median = np.median(array_2d)"
   ]
  },
  {
   "cell_type": "code",
   "execution_count": 41,
   "metadata": {},
   "outputs": [
    {
     "name": "stdout",
     "output_type": "stream",
     "text": [
      "Median: 45.0\n"
     ]
    }
   ],
   "source": [
    "print(\"Median:\", median)"
   ]
  },
  {
   "cell_type": "code",
   "execution_count": 42,
   "metadata": {},
   "outputs": [],
   "source": [
    "std_dev = np.std(array_2d)"
   ]
  },
  {
   "cell_type": "code",
   "execution_count": 43,
   "metadata": {},
   "outputs": [
    {
     "name": "stdout",
     "output_type": "stream",
     "text": [
      "Standard Deviation: 28.360061706561922\n"
     ]
    }
   ],
   "source": [
    "print(\"Standard Deviation:\", std_dev)"
   ]
  },
  {
   "cell_type": "code",
   "execution_count": 44,
   "metadata": {},
   "outputs": [],
   "source": [
    "min_value = np.min(array_2d)"
   ]
  },
  {
   "cell_type": "code",
   "execution_count": 45,
   "metadata": {},
   "outputs": [
    {
     "name": "stdout",
     "output_type": "stream",
     "text": [
      "Minimum Value: 1\n"
     ]
    }
   ],
   "source": [
    "print(\"Minimum Value:\", min_value)"
   ]
  },
  {
   "cell_type": "code",
   "execution_count": 46,
   "metadata": {},
   "outputs": [],
   "source": [
    "max_value = np.max(array_2d)"
   ]
  },
  {
   "cell_type": "code",
   "execution_count": 47,
   "metadata": {},
   "outputs": [
    {
     "name": "stdout",
     "output_type": "stream",
     "text": [
      "Maximum Value: 100\n"
     ]
    }
   ],
   "source": [
    "print(\"Maximum Value:\", max_value)"
   ]
  },
  {
   "cell_type": "code",
   "execution_count": 48,
   "metadata": {},
   "outputs": [],
   "source": [
    "percentile_25 = np.percentile(array_2d, 25)"
   ]
  },
  {
   "cell_type": "code",
   "execution_count": 49,
   "metadata": {},
   "outputs": [
    {
     "name": "stdout",
     "output_type": "stream",
     "text": [
      "25th Percentile: 24.75\n"
     ]
    }
   ],
   "source": [
    "print(\"25th Percentile:\", percentile_25)"
   ]
  },
  {
   "cell_type": "code",
   "execution_count": 50,
   "metadata": {},
   "outputs": [],
   "source": [
    "percentile_75 = np.percentile(array_2d, 75)\n"
   ]
  },
  {
   "cell_type": "code",
   "execution_count": 51,
   "metadata": {},
   "outputs": [
    {
     "name": "stdout",
     "output_type": "stream",
     "text": [
      "75th Percentile: 74.0\n"
     ]
    }
   ],
   "source": [
    "print(\"75th Percentile:\", percentile_75)"
   ]
  },
  {
   "cell_type": "code",
   "execution_count": 52,
   "metadata": {},
   "outputs": [],
   "source": [
    "sum_axis_0 = np.sum(array_2d, axis=0)"
   ]
  },
  {
   "cell_type": "code",
   "execution_count": 53,
   "metadata": {},
   "outputs": [
    {
     "name": "stdout",
     "output_type": "stream",
     "text": [
      "Sum along axis 0: [451 537 489 347 499 571 508 468 460 483]\n"
     ]
    }
   ],
   "source": [
    "print(\"Sum along axis 0:\", sum_axis_0)"
   ]
  },
  {
   "cell_type": "code",
   "execution_count": 54,
   "metadata": {},
   "outputs": [],
   "source": [
    "sum_axis_1 = np.sum(array_2d, axis=1)"
   ]
  },
  {
   "cell_type": "code",
   "execution_count": 55,
   "metadata": {},
   "outputs": [
    {
     "name": "stdout",
     "output_type": "stream",
     "text": [
      "Sum along axis 1: [514 301 483 407 563 629 388 526 367 635]\n"
     ]
    }
   ],
   "source": [
    "print(\"Sum along axis 1:\", sum_axis_1)"
   ]
  },
  {
   "cell_type": "code",
   "execution_count": 56,
   "metadata": {},
   "outputs": [],
   "source": [
    "bool_array_even = (array_2d % 2 == 0)"
   ]
  },
  {
   "cell_type": "code",
   "execution_count": 57,
   "metadata": {},
   "outputs": [
    {
     "name": "stdout",
     "output_type": "stream",
     "text": [
      "Boolean Array for even elements:\n",
      "[[False False  True  True False False  True  True  True  True]\n",
      " [False  True  True  True  True  True False False False False]\n",
      " [ True False  True  True False False False False False False]\n",
      " [False  True False  True False False False False False  True]\n",
      " [False False  True False  True False False  True False False]\n",
      " [ True  True  True False False  True  True False False False]\n",
      " [False False  True False False False False  True  True  True]\n",
      " [ True  True  True False  True False False False False False]\n",
      " [False  True  True False  True  True False  True  True  True]\n",
      " [False False  True  True  True False False False  True  True]]\n"
     ]
    }
   ],
   "source": [
    "print(\"Boolean Array for even elements:\")\n",
    "print(bool_array_even)\n"
   ]
  },
  {
   "cell_type": "code",
   "execution_count": 58,
   "metadata": {},
   "outputs": [],
   "source": [
    "masked_array_even = array_2d[bool_array_even]"
   ]
  },
  {
   "cell_type": "code",
   "execution_count": 59,
   "metadata": {},
   "outputs": [
    {
     "name": "stdout",
     "output_type": "stream",
     "text": [
      "Masked Array with even elements:\n",
      "[ 36  46  96  82  32  68  76  10   4   2  38  14  50  18  86  24  38  94\n",
      "  50  44  80  62  50  74  78  28  32  94  30  42  34  66 100  58  58   6\n",
      "  52   8  16  22  56  14  96  26  74]\n"
     ]
    }
   ],
   "source": [
    "print(\"Masked Array with even elements:\")\n",
    "print(masked_array_even)"
   ]
  },
  {
   "cell_type": "code",
   "execution_count": 60,
   "metadata": {},
   "outputs": [],
   "source": [
    "array_broadcast = np.random.randint(1, 11, size=(10,))"
   ]
  },
  {
   "cell_type": "code",
   "execution_count": 61,
   "metadata": {},
   "outputs": [],
   "source": [
    "result_broadcast = array_2d + array_broadcast[:, np.newaxis]"
   ]
  },
  {
   "cell_type": "code",
   "execution_count": 62,
   "metadata": {},
   "outputs": [
    {
     "name": "stdout",
     "output_type": "stream",
     "text": [
      "Result after Broadcasting:\n",
      "[[ 14  68  39  49   4  80  99  85  35  71]\n",
      " [ 32  77  11   5   3  39  70   2  62  10]\n",
      " [ 17  40  53  21  62  70  26  84  44  96]\n",
      " [ 65  96  51  34  77  25  45  35  31  48]\n",
      " [ 97  11 100  89  56  91   7  50  27  95]\n",
      " [ 83  65  53  34  94  77  81  22  98  52]\n",
      " [ 23  35  32  43  31  59  37  36  98  34]\n",
      " [ 50  42  74  73 108  39  51  89  61  19]\n",
      " [ 46  63  63  28  11  57  88  13  21  27]\n",
      " [ 76  92  65  23 105  86  56 104  35  83]]\n"
     ]
    }
   ],
   "source": [
    "print(\"Result after Broadcasting:\")\n",
    "print(result_broadcast)"
   ]
  },
  {
   "cell_type": "code",
   "execution_count": null,
   "metadata": {},
   "outputs": [],
   "source": []
  }
 ],
 "metadata": {
  "kernelspec": {
   "display_name": "Python 3",
   "language": "python",
   "name": "python3"
  },
  "language_info": {
   "codemirror_mode": {
    "name": "ipython",
    "version": 3
   },
   "file_extension": ".py",
   "mimetype": "text/x-python",
   "name": "python",
   "nbconvert_exporter": "python",
   "pygments_lexer": "ipython3",
   "version": "3.11.0"
  }
 },
 "nbformat": 4,
 "nbformat_minor": 2
}
